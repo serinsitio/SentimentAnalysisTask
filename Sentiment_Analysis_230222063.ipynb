{
  "nbformat": 4,
  "nbformat_minor": 0,
  "metadata": {
    "colab": {
      "provenance": []
    },
    "kernelspec": {
      "name": "python3",
      "display_name": "Python 3"
    },
    "accelerator": "GPU"
  },
  "cells": [
    {
      "cell_type": "markdown",
      "metadata": {
        "id": "SViBdI7F9SaZ"
      },
      "source": [
        "## Melakukan Import Library"
      ]
    },
    {
      "cell_type": "code",
      "metadata": {
        "id": "lAcgcQJx9VsX",
        "outputId": "554768cf-08fa-4574-87ad-03e3f678f80e",
        "colab": {
          "base_uri": "https://localhost:8080/"
        }
      },
      "source": [
        "import numpy as np\n",
        "import pandas as pd\n",
        "import re\n",
        "import nltk\n",
        "nltk.download('stopwords')\n",
        "from nltk.corpus import stopwords\n",
        "import seaborn as sns\n",
        "import matplotlib.pyplot as plt"
      ],
      "execution_count": null,
      "outputs": [
        {
          "output_type": "stream",
          "name": "stderr",
          "text": [
            "[nltk_data] Downloading package stopwords to /root/nltk_data...\n",
            "[nltk_data]   Unzipping corpora/stopwords.zip.\n"
          ]
        }
      ]
    },
    {
      "cell_type": "markdown",
      "metadata": {
        "id": "pc1_REBT9Z9j"
      },
      "source": [
        "## Import Dataset"
      ]
    },
    {
      "cell_type": "markdown",
      "metadata": {
        "id": "7fIcg5HBCGni"
      },
      "source": [
        "Dataset yang digunakan adalah data analisis sentimen tentang masalah setiap maskapai besar AS. Data Twitter diambil dari Februari 2015 dan kontributor diminta untuk mengklasifikasikan tweet positif, negatif, dan netral. Dataset diunduh melalui link \"[https://www.kaggle.com/datasets/crowdflower/twitter-airline-sentiment](https://www.kaggle.com/datasets/crowdflower/twitter-airline-sentiment)\" yang kemudian disimpan dalam repositori github dengan URL \"[https://raw.githubusercontent.com/serinsitio/classtext/main/Tweets.csv](https://raw.githubusercontent.com/serinsitio/classtext/main/Tweets.csv)\""
      ]
    },
    {
      "cell_type": "code",
      "metadata": {
        "id": "Lj6jqBn09e-o"
      },
      "source": [
        "data = pd.read_csv(\"https://raw.githubusercontent.com/serinsitio/classtext/main/Tweets.csv\")\n",
        "\n",
        "t_1 = data[data['airline_sentiment']=='positive']\n",
        "t_2 = data[data['airline_sentiment']=='negative']\n",
        "t_3 = data[data['airline_sentiment']=='neutral']\n",
        "tweets = pd.concat([t_1, t_2, t_3])"
      ],
      "execution_count": null,
      "outputs": []
    },
    {
      "cell_type": "code",
      "metadata": {
        "id": "oZCeMEY69y5q",
        "outputId": "6f34d0c2-d0ab-4cd5-de6b-28eb70a01246",
        "colab": {
          "base_uri": "https://localhost:8080/",
          "height": 530
        }
      },
      "source": [
        "tweets.head()"
      ],
      "execution_count": null,
      "outputs": [
        {
          "output_type": "execute_result",
          "data": {
            "text/plain": [
              "              tweet_id airline_sentiment  airline_sentiment_confidence  \\\n",
              "1   570301130888122368          positive                        0.3486   \n",
              "6   570300616901320704          positive                        0.6745   \n",
              "8   570299953286942721          positive                        0.6559   \n",
              "9   570295459631263746          positive                        1.0000   \n",
              "11  570289724453216256          positive                        1.0000   \n",
              "\n",
              "   negativereason  negativereason_confidence         airline  \\\n",
              "1             NaN                        0.0  Virgin America   \n",
              "6             NaN                        0.0  Virgin America   \n",
              "8             NaN                        NaN  Virgin America   \n",
              "9             NaN                        NaN  Virgin America   \n",
              "11            NaN                        NaN  Virgin America   \n",
              "\n",
              "   airline_sentiment_gold          name negativereason_gold  retweet_count  \\\n",
              "1                     NaN      jnardino                 NaN              0   \n",
              "6                     NaN    cjmcginnis                 NaN              0   \n",
              "8                     NaN      dhepburn                 NaN              0   \n",
              "9                     NaN    YupitsTate                 NaN              0   \n",
              "11                    NaN  HyperCamiLax                 NaN              0   \n",
              "\n",
              "                                                 text tweet_coord  \\\n",
              "1   @VirginAmerica plus you've added commercials t...         NaN   \n",
              "6   @VirginAmerica yes, nearly every time I fly VX...         NaN   \n",
              "8     @virginamerica Well, I didn't…but NOW I DO! :-D         NaN   \n",
              "9   @VirginAmerica it was amazing, and arrived an ...         NaN   \n",
              "11  @VirginAmerica I &lt;3 pretty graphics. so muc...         NaN   \n",
              "\n",
              "                tweet_created    tweet_location               user_timezone  \n",
              "1   2015-02-24 11:15:59 -0800               NaN  Pacific Time (US & Canada)  \n",
              "6   2015-02-24 11:13:57 -0800  San Francisco CA  Pacific Time (US & Canada)  \n",
              "8   2015-02-24 11:11:19 -0800         San Diego  Pacific Time (US & Canada)  \n",
              "9   2015-02-24 10:53:27 -0800       Los Angeles  Eastern Time (US & Canada)  \n",
              "11  2015-02-24 10:30:40 -0800               NYC            America/New_York  "
            ],
            "text/html": [
              "\n",
              "  <div id=\"df-476bf267-1537-4771-b1ff-6b3fa975ec27\">\n",
              "    <div class=\"colab-df-container\">\n",
              "      <div>\n",
              "<style scoped>\n",
              "    .dataframe tbody tr th:only-of-type {\n",
              "        vertical-align: middle;\n",
              "    }\n",
              "\n",
              "    .dataframe tbody tr th {\n",
              "        vertical-align: top;\n",
              "    }\n",
              "\n",
              "    .dataframe thead th {\n",
              "        text-align: right;\n",
              "    }\n",
              "</style>\n",
              "<table border=\"1\" class=\"dataframe\">\n",
              "  <thead>\n",
              "    <tr style=\"text-align: right;\">\n",
              "      <th></th>\n",
              "      <th>tweet_id</th>\n",
              "      <th>airline_sentiment</th>\n",
              "      <th>airline_sentiment_confidence</th>\n",
              "      <th>negativereason</th>\n",
              "      <th>negativereason_confidence</th>\n",
              "      <th>airline</th>\n",
              "      <th>airline_sentiment_gold</th>\n",
              "      <th>name</th>\n",
              "      <th>negativereason_gold</th>\n",
              "      <th>retweet_count</th>\n",
              "      <th>text</th>\n",
              "      <th>tweet_coord</th>\n",
              "      <th>tweet_created</th>\n",
              "      <th>tweet_location</th>\n",
              "      <th>user_timezone</th>\n",
              "    </tr>\n",
              "  </thead>\n",
              "  <tbody>\n",
              "    <tr>\n",
              "      <th>1</th>\n",
              "      <td>570301130888122368</td>\n",
              "      <td>positive</td>\n",
              "      <td>0.3486</td>\n",
              "      <td>NaN</td>\n",
              "      <td>0.0</td>\n",
              "      <td>Virgin America</td>\n",
              "      <td>NaN</td>\n",
              "      <td>jnardino</td>\n",
              "      <td>NaN</td>\n",
              "      <td>0</td>\n",
              "      <td>@VirginAmerica plus you've added commercials t...</td>\n",
              "      <td>NaN</td>\n",
              "      <td>2015-02-24 11:15:59 -0800</td>\n",
              "      <td>NaN</td>\n",
              "      <td>Pacific Time (US &amp; Canada)</td>\n",
              "    </tr>\n",
              "    <tr>\n",
              "      <th>6</th>\n",
              "      <td>570300616901320704</td>\n",
              "      <td>positive</td>\n",
              "      <td>0.6745</td>\n",
              "      <td>NaN</td>\n",
              "      <td>0.0</td>\n",
              "      <td>Virgin America</td>\n",
              "      <td>NaN</td>\n",
              "      <td>cjmcginnis</td>\n",
              "      <td>NaN</td>\n",
              "      <td>0</td>\n",
              "      <td>@VirginAmerica yes, nearly every time I fly VX...</td>\n",
              "      <td>NaN</td>\n",
              "      <td>2015-02-24 11:13:57 -0800</td>\n",
              "      <td>San Francisco CA</td>\n",
              "      <td>Pacific Time (US &amp; Canada)</td>\n",
              "    </tr>\n",
              "    <tr>\n",
              "      <th>8</th>\n",
              "      <td>570299953286942721</td>\n",
              "      <td>positive</td>\n",
              "      <td>0.6559</td>\n",
              "      <td>NaN</td>\n",
              "      <td>NaN</td>\n",
              "      <td>Virgin America</td>\n",
              "      <td>NaN</td>\n",
              "      <td>dhepburn</td>\n",
              "      <td>NaN</td>\n",
              "      <td>0</td>\n",
              "      <td>@virginamerica Well, I didn't…but NOW I DO! :-D</td>\n",
              "      <td>NaN</td>\n",
              "      <td>2015-02-24 11:11:19 -0800</td>\n",
              "      <td>San Diego</td>\n",
              "      <td>Pacific Time (US &amp; Canada)</td>\n",
              "    </tr>\n",
              "    <tr>\n",
              "      <th>9</th>\n",
              "      <td>570295459631263746</td>\n",
              "      <td>positive</td>\n",
              "      <td>1.0000</td>\n",
              "      <td>NaN</td>\n",
              "      <td>NaN</td>\n",
              "      <td>Virgin America</td>\n",
              "      <td>NaN</td>\n",
              "      <td>YupitsTate</td>\n",
              "      <td>NaN</td>\n",
              "      <td>0</td>\n",
              "      <td>@VirginAmerica it was amazing, and arrived an ...</td>\n",
              "      <td>NaN</td>\n",
              "      <td>2015-02-24 10:53:27 -0800</td>\n",
              "      <td>Los Angeles</td>\n",
              "      <td>Eastern Time (US &amp; Canada)</td>\n",
              "    </tr>\n",
              "    <tr>\n",
              "      <th>11</th>\n",
              "      <td>570289724453216256</td>\n",
              "      <td>positive</td>\n",
              "      <td>1.0000</td>\n",
              "      <td>NaN</td>\n",
              "      <td>NaN</td>\n",
              "      <td>Virgin America</td>\n",
              "      <td>NaN</td>\n",
              "      <td>HyperCamiLax</td>\n",
              "      <td>NaN</td>\n",
              "      <td>0</td>\n",
              "      <td>@VirginAmerica I &amp;lt;3 pretty graphics. so muc...</td>\n",
              "      <td>NaN</td>\n",
              "      <td>2015-02-24 10:30:40 -0800</td>\n",
              "      <td>NYC</td>\n",
              "      <td>America/New_York</td>\n",
              "    </tr>\n",
              "  </tbody>\n",
              "</table>\n",
              "</div>\n",
              "      <button class=\"colab-df-convert\" onclick=\"convertToInteractive('df-476bf267-1537-4771-b1ff-6b3fa975ec27')\"\n",
              "              title=\"Convert this dataframe to an interactive table.\"\n",
              "              style=\"display:none;\">\n",
              "        \n",
              "  <svg xmlns=\"http://www.w3.org/2000/svg\" height=\"24px\"viewBox=\"0 0 24 24\"\n",
              "       width=\"24px\">\n",
              "    <path d=\"M0 0h24v24H0V0z\" fill=\"none\"/>\n",
              "    <path d=\"M18.56 5.44l.94 2.06.94-2.06 2.06-.94-2.06-.94-.94-2.06-.94 2.06-2.06.94zm-11 1L8.5 8.5l.94-2.06 2.06-.94-2.06-.94L8.5 2.5l-.94 2.06-2.06.94zm10 10l.94 2.06.94-2.06 2.06-.94-2.06-.94-.94-2.06-.94 2.06-2.06.94z\"/><path d=\"M17.41 7.96l-1.37-1.37c-.4-.4-.92-.59-1.43-.59-.52 0-1.04.2-1.43.59L10.3 9.45l-7.72 7.72c-.78.78-.78 2.05 0 2.83L4 21.41c.39.39.9.59 1.41.59.51 0 1.02-.2 1.41-.59l7.78-7.78 2.81-2.81c.8-.78.8-2.07 0-2.86zM5.41 20L4 18.59l7.72-7.72 1.47 1.35L5.41 20z\"/>\n",
              "  </svg>\n",
              "      </button>\n",
              "      \n",
              "  <style>\n",
              "    .colab-df-container {\n",
              "      display:flex;\n",
              "      flex-wrap:wrap;\n",
              "      gap: 12px;\n",
              "    }\n",
              "\n",
              "    .colab-df-convert {\n",
              "      background-color: #E8F0FE;\n",
              "      border: none;\n",
              "      border-radius: 50%;\n",
              "      cursor: pointer;\n",
              "      display: none;\n",
              "      fill: #1967D2;\n",
              "      height: 32px;\n",
              "      padding: 0 0 0 0;\n",
              "      width: 32px;\n",
              "    }\n",
              "\n",
              "    .colab-df-convert:hover {\n",
              "      background-color: #E2EBFA;\n",
              "      box-shadow: 0px 1px 2px rgba(60, 64, 67, 0.3), 0px 1px 3px 1px rgba(60, 64, 67, 0.15);\n",
              "      fill: #174EA6;\n",
              "    }\n",
              "\n",
              "    [theme=dark] .colab-df-convert {\n",
              "      background-color: #3B4455;\n",
              "      fill: #D2E3FC;\n",
              "    }\n",
              "\n",
              "    [theme=dark] .colab-df-convert:hover {\n",
              "      background-color: #434B5C;\n",
              "      box-shadow: 0px 1px 3px 1px rgba(0, 0, 0, 0.15);\n",
              "      filter: drop-shadow(0px 1px 2px rgba(0, 0, 0, 0.3));\n",
              "      fill: #FFFFFF;\n",
              "    }\n",
              "  </style>\n",
              "\n",
              "      <script>\n",
              "        const buttonEl =\n",
              "          document.querySelector('#df-476bf267-1537-4771-b1ff-6b3fa975ec27 button.colab-df-convert');\n",
              "        buttonEl.style.display =\n",
              "          google.colab.kernel.accessAllowed ? 'block' : 'none';\n",
              "\n",
              "        async function convertToInteractive(key) {\n",
              "          const element = document.querySelector('#df-476bf267-1537-4771-b1ff-6b3fa975ec27');\n",
              "          const dataTable =\n",
              "            await google.colab.kernel.invokeFunction('convertToInteractive',\n",
              "                                                     [key], {});\n",
              "          if (!dataTable) return;\n",
              "\n",
              "          const docLinkHtml = 'Like what you see? Visit the ' +\n",
              "            '<a target=\"_blank\" href=https://colab.research.google.com/notebooks/data_table.ipynb>data table notebook</a>'\n",
              "            + ' to learn more about interactive tables.';\n",
              "          element.innerHTML = '';\n",
              "          dataTable['output_type'] = 'display_data';\n",
              "          await google.colab.output.renderOutput(dataTable, element);\n",
              "          const docLink = document.createElement('div');\n",
              "          docLink.innerHTML = docLinkHtml;\n",
              "          element.appendChild(docLink);\n",
              "        }\n",
              "      </script>\n",
              "    </div>\n",
              "  </div>\n",
              "  "
            ]
          },
          "metadata": {},
          "execution_count": 3
        }
      ]
    },
    {
      "cell_type": "code",
      "metadata": {
        "id": "he3iRAI1VgcQ",
        "outputId": "37d450fa-b825-4d44-e37b-2ac14d4214f9",
        "colab": {
          "base_uri": "https://localhost:8080/",
          "height": 513
        }
      },
      "source": [
        "tweets.tail()"
      ],
      "execution_count": null,
      "outputs": [
        {
          "output_type": "execute_result",
          "data": {
            "text/plain": [
              "                 tweet_id airline_sentiment  airline_sentiment_confidence  \\\n",
              "14607  569592270866878464           neutral                        1.0000   \n",
              "14611  569591730506371072           neutral                        1.0000   \n",
              "14632  569587813856841728           neutral                        0.6760   \n",
              "14637  569587242672398336           neutral                        1.0000   \n",
              "14639  569587140490866689           neutral                        0.6771   \n",
              "\n",
              "      negativereason  negativereason_confidence   airline  \\\n",
              "14607            NaN                        NaN  American   \n",
              "14611            NaN                        NaN  American   \n",
              "14632            NaN                        0.0  American   \n",
              "14637            NaN                        NaN  American   \n",
              "14639            NaN                        0.0  American   \n",
              "\n",
              "      airline_sentiment_gold         name negativereason_gold  retweet_count  \\\n",
              "14607                    NaN  WishUpon_26                 NaN              0   \n",
              "14611                    NaN  TrueChief77                 NaN              0   \n",
              "14632                    NaN   Chad_SMFYM                 NaN              0   \n",
              "14637                    NaN     sanyabun                 NaN              0   \n",
              "14639                    NaN    daviddtwu                 NaN              0   \n",
              "\n",
              "                                                    text tweet_coord  \\\n",
              "14607         @AmericanAir i need someone to help me out         NaN   \n",
              "14611  @AmericanAir guarantee no retribution? If so, ...         NaN   \n",
              "14632  “@AmericanAir: @TilleyMonsta George, that does...         NaN   \n",
              "14637  @AmericanAir Please bring American Airlines to...         NaN   \n",
              "14639  @AmericanAir we have 8 ppl so we need 2 know h...         NaN   \n",
              "\n",
              "                   tweet_created tweet_location               user_timezone  \n",
              "14607  2015-02-22 12:19:14 -0800             KY  Eastern Time (US & Canada)  \n",
              "14611  2015-02-22 12:17:05 -0800   970 Colorado                         NaN  \n",
              "14632  2015-02-22 12:01:31 -0800            NaN  Central Time (US & Canada)  \n",
              "14637  2015-02-22 11:59:15 -0800  Nigeria,lagos                         NaN  \n",
              "14639  2015-02-22 11:58:51 -0800     dallas, TX                         NaN  "
            ],
            "text/html": [
              "\n",
              "  <div id=\"df-f3e1896e-cd09-4bec-bc7d-d71615cdeabb\">\n",
              "    <div class=\"colab-df-container\">\n",
              "      <div>\n",
              "<style scoped>\n",
              "    .dataframe tbody tr th:only-of-type {\n",
              "        vertical-align: middle;\n",
              "    }\n",
              "\n",
              "    .dataframe tbody tr th {\n",
              "        vertical-align: top;\n",
              "    }\n",
              "\n",
              "    .dataframe thead th {\n",
              "        text-align: right;\n",
              "    }\n",
              "</style>\n",
              "<table border=\"1\" class=\"dataframe\">\n",
              "  <thead>\n",
              "    <tr style=\"text-align: right;\">\n",
              "      <th></th>\n",
              "      <th>tweet_id</th>\n",
              "      <th>airline_sentiment</th>\n",
              "      <th>airline_sentiment_confidence</th>\n",
              "      <th>negativereason</th>\n",
              "      <th>negativereason_confidence</th>\n",
              "      <th>airline</th>\n",
              "      <th>airline_sentiment_gold</th>\n",
              "      <th>name</th>\n",
              "      <th>negativereason_gold</th>\n",
              "      <th>retweet_count</th>\n",
              "      <th>text</th>\n",
              "      <th>tweet_coord</th>\n",
              "      <th>tweet_created</th>\n",
              "      <th>tweet_location</th>\n",
              "      <th>user_timezone</th>\n",
              "    </tr>\n",
              "  </thead>\n",
              "  <tbody>\n",
              "    <tr>\n",
              "      <th>14607</th>\n",
              "      <td>569592270866878464</td>\n",
              "      <td>neutral</td>\n",
              "      <td>1.0000</td>\n",
              "      <td>NaN</td>\n",
              "      <td>NaN</td>\n",
              "      <td>American</td>\n",
              "      <td>NaN</td>\n",
              "      <td>WishUpon_26</td>\n",
              "      <td>NaN</td>\n",
              "      <td>0</td>\n",
              "      <td>@AmericanAir i need someone to help me out</td>\n",
              "      <td>NaN</td>\n",
              "      <td>2015-02-22 12:19:14 -0800</td>\n",
              "      <td>KY</td>\n",
              "      <td>Eastern Time (US &amp; Canada)</td>\n",
              "    </tr>\n",
              "    <tr>\n",
              "      <th>14611</th>\n",
              "      <td>569591730506371072</td>\n",
              "      <td>neutral</td>\n",
              "      <td>1.0000</td>\n",
              "      <td>NaN</td>\n",
              "      <td>NaN</td>\n",
              "      <td>American</td>\n",
              "      <td>NaN</td>\n",
              "      <td>TrueChief77</td>\n",
              "      <td>NaN</td>\n",
              "      <td>0</td>\n",
              "      <td>@AmericanAir guarantee no retribution? If so, ...</td>\n",
              "      <td>NaN</td>\n",
              "      <td>2015-02-22 12:17:05 -0800</td>\n",
              "      <td>970 Colorado</td>\n",
              "      <td>NaN</td>\n",
              "    </tr>\n",
              "    <tr>\n",
              "      <th>14632</th>\n",
              "      <td>569587813856841728</td>\n",
              "      <td>neutral</td>\n",
              "      <td>0.6760</td>\n",
              "      <td>NaN</td>\n",
              "      <td>0.0</td>\n",
              "      <td>American</td>\n",
              "      <td>NaN</td>\n",
              "      <td>Chad_SMFYM</td>\n",
              "      <td>NaN</td>\n",
              "      <td>0</td>\n",
              "      <td>“@AmericanAir: @TilleyMonsta George, that does...</td>\n",
              "      <td>NaN</td>\n",
              "      <td>2015-02-22 12:01:31 -0800</td>\n",
              "      <td>NaN</td>\n",
              "      <td>Central Time (US &amp; Canada)</td>\n",
              "    </tr>\n",
              "    <tr>\n",
              "      <th>14637</th>\n",
              "      <td>569587242672398336</td>\n",
              "      <td>neutral</td>\n",
              "      <td>1.0000</td>\n",
              "      <td>NaN</td>\n",
              "      <td>NaN</td>\n",
              "      <td>American</td>\n",
              "      <td>NaN</td>\n",
              "      <td>sanyabun</td>\n",
              "      <td>NaN</td>\n",
              "      <td>0</td>\n",
              "      <td>@AmericanAir Please bring American Airlines to...</td>\n",
              "      <td>NaN</td>\n",
              "      <td>2015-02-22 11:59:15 -0800</td>\n",
              "      <td>Nigeria,lagos</td>\n",
              "      <td>NaN</td>\n",
              "    </tr>\n",
              "    <tr>\n",
              "      <th>14639</th>\n",
              "      <td>569587140490866689</td>\n",
              "      <td>neutral</td>\n",
              "      <td>0.6771</td>\n",
              "      <td>NaN</td>\n",
              "      <td>0.0</td>\n",
              "      <td>American</td>\n",
              "      <td>NaN</td>\n",
              "      <td>daviddtwu</td>\n",
              "      <td>NaN</td>\n",
              "      <td>0</td>\n",
              "      <td>@AmericanAir we have 8 ppl so we need 2 know h...</td>\n",
              "      <td>NaN</td>\n",
              "      <td>2015-02-22 11:58:51 -0800</td>\n",
              "      <td>dallas, TX</td>\n",
              "      <td>NaN</td>\n",
              "    </tr>\n",
              "  </tbody>\n",
              "</table>\n",
              "</div>\n",
              "      <button class=\"colab-df-convert\" onclick=\"convertToInteractive('df-f3e1896e-cd09-4bec-bc7d-d71615cdeabb')\"\n",
              "              title=\"Convert this dataframe to an interactive table.\"\n",
              "              style=\"display:none;\">\n",
              "        \n",
              "  <svg xmlns=\"http://www.w3.org/2000/svg\" height=\"24px\"viewBox=\"0 0 24 24\"\n",
              "       width=\"24px\">\n",
              "    <path d=\"M0 0h24v24H0V0z\" fill=\"none\"/>\n",
              "    <path d=\"M18.56 5.44l.94 2.06.94-2.06 2.06-.94-2.06-.94-.94-2.06-.94 2.06-2.06.94zm-11 1L8.5 8.5l.94-2.06 2.06-.94-2.06-.94L8.5 2.5l-.94 2.06-2.06.94zm10 10l.94 2.06.94-2.06 2.06-.94-2.06-.94-.94-2.06-.94 2.06-2.06.94z\"/><path d=\"M17.41 7.96l-1.37-1.37c-.4-.4-.92-.59-1.43-.59-.52 0-1.04.2-1.43.59L10.3 9.45l-7.72 7.72c-.78.78-.78 2.05 0 2.83L4 21.41c.39.39.9.59 1.41.59.51 0 1.02-.2 1.41-.59l7.78-7.78 2.81-2.81c.8-.78.8-2.07 0-2.86zM5.41 20L4 18.59l7.72-7.72 1.47 1.35L5.41 20z\"/>\n",
              "  </svg>\n",
              "      </button>\n",
              "      \n",
              "  <style>\n",
              "    .colab-df-container {\n",
              "      display:flex;\n",
              "      flex-wrap:wrap;\n",
              "      gap: 12px;\n",
              "    }\n",
              "\n",
              "    .colab-df-convert {\n",
              "      background-color: #E8F0FE;\n",
              "      border: none;\n",
              "      border-radius: 50%;\n",
              "      cursor: pointer;\n",
              "      display: none;\n",
              "      fill: #1967D2;\n",
              "      height: 32px;\n",
              "      padding: 0 0 0 0;\n",
              "      width: 32px;\n",
              "    }\n",
              "\n",
              "    .colab-df-convert:hover {\n",
              "      background-color: #E2EBFA;\n",
              "      box-shadow: 0px 1px 2px rgba(60, 64, 67, 0.3), 0px 1px 3px 1px rgba(60, 64, 67, 0.15);\n",
              "      fill: #174EA6;\n",
              "    }\n",
              "\n",
              "    [theme=dark] .colab-df-convert {\n",
              "      background-color: #3B4455;\n",
              "      fill: #D2E3FC;\n",
              "    }\n",
              "\n",
              "    [theme=dark] .colab-df-convert:hover {\n",
              "      background-color: #434B5C;\n",
              "      box-shadow: 0px 1px 3px 1px rgba(0, 0, 0, 0.15);\n",
              "      filter: drop-shadow(0px 1px 2px rgba(0, 0, 0, 0.3));\n",
              "      fill: #FFFFFF;\n",
              "    }\n",
              "  </style>\n",
              "\n",
              "      <script>\n",
              "        const buttonEl =\n",
              "          document.querySelector('#df-f3e1896e-cd09-4bec-bc7d-d71615cdeabb button.colab-df-convert');\n",
              "        buttonEl.style.display =\n",
              "          google.colab.kernel.accessAllowed ? 'block' : 'none';\n",
              "\n",
              "        async function convertToInteractive(key) {\n",
              "          const element = document.querySelector('#df-f3e1896e-cd09-4bec-bc7d-d71615cdeabb');\n",
              "          const dataTable =\n",
              "            await google.colab.kernel.invokeFunction('convertToInteractive',\n",
              "                                                     [key], {});\n",
              "          if (!dataTable) return;\n",
              "\n",
              "          const docLinkHtml = 'Like what you see? Visit the ' +\n",
              "            '<a target=\"_blank\" href=https://colab.research.google.com/notebooks/data_table.ipynb>data table notebook</a>'\n",
              "            + ' to learn more about interactive tables.';\n",
              "          element.innerHTML = '';\n",
              "          dataTable['output_type'] = 'display_data';\n",
              "          await google.colab.output.renderOutput(dataTable, element);\n",
              "          const docLink = document.createElement('div');\n",
              "          docLink.innerHTML = docLinkHtml;\n",
              "          element.appendChild(docLink);\n",
              "        }\n",
              "      </script>\n",
              "    </div>\n",
              "  </div>\n",
              "  "
            ]
          },
          "metadata": {},
          "execution_count": 4
        }
      ]
    },
    {
      "cell_type": "code",
      "metadata": {
        "id": "zYoWEuXX-F82",
        "outputId": "8d771f7e-0cfe-49e5-9a17-2643a35a83d0",
        "colab": {
          "base_uri": "https://localhost:8080/",
          "height": 138
        }
      },
      "source": [
        "display(tweets.columns)\n",
        "display(tweets.shape)"
      ],
      "execution_count": null,
      "outputs": [
        {
          "output_type": "display_data",
          "data": {
            "text/plain": [
              "Index(['tweet_id', 'airline_sentiment', 'airline_sentiment_confidence',\n",
              "       'negativereason', 'negativereason_confidence', 'airline',\n",
              "       'airline_sentiment_gold', 'name', 'negativereason_gold',\n",
              "       'retweet_count', 'text', 'tweet_coord', 'tweet_created',\n",
              "       'tweet_location', 'user_timezone'],\n",
              "      dtype='object')"
            ]
          },
          "metadata": {}
        },
        {
          "output_type": "display_data",
          "data": {
            "text/plain": [
              "(14640, 15)"
            ]
          },
          "metadata": {}
        }
      ]
    },
    {
      "cell_type": "markdown",
      "metadata": {
        "id": "D-rInDxJCgnF"
      },
      "source": [
        "Dalam output, Kita melihat ada (14640, 15) yang berarti bahwa dataset kami terdiri dari 14640 baris dan 15 kolom. Namun, di antara kolom, kita hanya tertarik pada kolom “airline_sentiment” yang terdiri dari kategori sentimen sebenarnya, dan kolom “text” yang berisi teks aktual dari tweet tersebut."
      ]
    },
    {
      "cell_type": "markdown",
      "metadata": {
        "id": "rbHUTw609ziv"
      },
      "source": [
        "## Explorasi Data"
      ]
    },
    {
      "cell_type": "code",
      "metadata": {
        "id": "URRkQxRK-S6y",
        "outputId": "8a1a4033-f6cf-49b7-d371-ddefebb94ade",
        "colab": {
          "base_uri": "https://localhost:8080/",
          "height": 542
        }
      },
      "source": [
        "# Cek jumlah review positive dan negative\n",
        "plt.figure(figsize=(12,5))\n",
        "sns.countplot(x='airline_sentiment', data=tweets)\n",
        "plt.title('Distribusi class sentiment Airline', fontsize=16)\n",
        "plt.ylabel('Class Counts', fontsize=16)\n",
        "plt.xlabel('Class Label', fontsize=16)\n",
        "plt.xticks(rotation='vertical');"
      ],
      "execution_count": null,
      "outputs": [
        {
          "output_type": "display_data",
          "data": {
            "text/plain": [
              "<Figure size 1200x500 with 1 Axes>"
            ],
            "image/png": "[encoded data removed]"
          },
          "metadata": {}
        }
      ]
    },
    {
      "cell_type": "markdown",
      "metadata": {
        "id": "wuG12_t3Cqm-"
      },
      "source": [
        "Dari output, Kita dapat melihat bahwa jumlah ulasan negatif jauh lebih tinggi daripada jumlah ulasan positif dan netral."
      ]
    },
    {
      "cell_type": "code",
      "metadata": {
        "id": "MDZXKeN2-Tb4",
        "outputId": "caf451c5-748b-403f-d2f3-b3a4bf60a9d0",
        "colab": {
          "base_uri": "https://localhost:8080/",
          "height": 454
        }
      },
      "source": [
        "# Cek Airline yang mendapat review paling tinggi\n",
        "sns.countplot(x='airline', data=tweets);"
      ],
      "execution_count": null,
      "outputs": [
        {
          "output_type": "display_data",
          "data": {
            "text/plain": [
              "<Figure size 640x480 with 1 Axes>"
            ],
            "image/png": "[encoded data removed]"
          },
          "metadata": {}
        }
      ]
    },
    {
      "cell_type": "markdown",
      "metadata": {
        "id": "oPMg6tQgCvOY"
      },
      "source": [
        "Dari output, Kita dapat melihat bahwa Maskapai Penerbangan “United” mendapat jumlah ulasan tertinggi sedangkan “Virgin America” mendapat jumlah ulasan terendah."
      ]
    },
    {
      "cell_type": "code",
      "metadata": {
        "id": "z7qNS5b_-gFG",
        "outputId": "f3ff2e7e-cafd-49cb-899f-fae7ebc51d8a",
        "colab": {
          "base_uri": "https://localhost:8080/",
          "height": 449
        }
      },
      "source": [
        "# Cek jumlah review dari masing-masing Airline yang diterima\n",
        "sns.countplot(x='airline', hue=\"airline_sentiment\", data=tweets);"
      ],
      "execution_count": null,
      "outputs": [
        {
          "output_type": "display_data",
          "data": {
            "text/plain": [
              "<Figure size 640x480 with 1 Axes>"
            ],
            "image/png": "[encoded data removed]"
          },
          "metadata": {}
        }
      ]
    },
    {
      "cell_type": "markdown",
      "metadata": {
        "id": "bcSzZWvMC37G"
      },
      "source": [
        "Kita dapat melihat bahwa untuk hampir semua maskapai, jumlah ulasan negatif lebih besar daripada ulasan positif dan netral."
      ]
    },
    {
      "cell_type": "markdown",
      "metadata": {
        "id": "HD0ZzsMLAUZd"
      },
      "source": [
        "## Pemrosesan Data"
      ]
    },
    {
      "cell_type": "code",
      "metadata": {
        "id": "Wy2RNLgs-1dB",
        "outputId": "45b14ffd-fd6b-44be-f295-8bda5d18538a",
        "colab": {
          "base_uri": "https://localhost:8080/"
        }
      },
      "source": [
        "from sklearn.preprocessing import LabelEncoder\n",
        "\n",
        "X = tweets.iloc[:, 10].values\n",
        "le = LabelEncoder()\n",
        "le.fit([\"positive\", \"negative\", \"neutral\"])\n",
        "\n",
        "print(list(le.classes_))\n",
        "y = le.transform(tweets.iloc[:, 1].values)\n",
        "\n",
        "#y = tweets.iloc[:, 1].values\n",
        "print(X.shape)\n",
        "print(X[0])\n",
        "print(y.shape)\n",
        "print(y[0])"
      ],
      "execution_count": null,
      "outputs": [
        {
          "output_type": "stream",
          "name": "stdout",
          "text": [
            "['negative', 'neutral', 'positive']\n",
            "(14640,)\n",
            "@VirginAmerica plus you've added commercials to the experience... tacky.\n",
            "(14640,)\n",
            "2\n"
          ]
        }
      ]
    },
    {
      "cell_type": "markdown",
      "metadata": {
        "id": "67i00fArA8k5"
      },
      "source": [
        "Data cleaning"
      ]
    },
    {
      "cell_type": "code",
      "metadata": {
        "id": "iB09_ADdAoIZ"
      },
      "source": [
        "# Membuat empty List\n",
        "processed_tweets = []\n",
        "\n",
        "for tweet in range(0, len(X)):\n",
        "    # Hapus semua special characters\n",
        "    processed_tweet = re.sub(r'\\W', ' ', str(X[tweet]))\n",
        "\n",
        "    # Hapus semua single characters\n",
        "    processed_tweet = re.sub(r'\\s+[a-zA-Z]\\s+', ' ', processed_tweet)\n",
        "\n",
        "    # Hapus single characters dari awal\n",
        "    processed_tweet = re.sub(r'\\^[a-zA-Z]\\s+', ' ', processed_tweet)\n",
        "\n",
        "    # Substitusi multiple spaces dengan single space\n",
        "    processed_tweet= re.sub(r'\\s+', ' ', processed_tweet, flags=re.I)\n",
        "\n",
        "    # Hapus prefixed 'b'\n",
        "    processed_tweet = re.sub(r'^b\\s+', '', processed_tweet)\n",
        "\n",
        "    # Ubah menjadi Lowercase\n",
        "    processed_tweet = processed_tweet.lower()\n",
        "\n",
        "    # Masukkan ke list kosong yang telah dibuat sebelumnya\n",
        "    processed_tweets.append(processed_tweet)"
      ],
      "execution_count": null,
      "outputs": []
    },
    {
      "cell_type": "code",
      "metadata": {
        "id": "VCpteX5ll1VL",
        "outputId": "752436d2-26a0-4c8a-e9d4-9446e69e8665",
        "colab": {
          "base_uri": "https://localhost:8080/"
        }
      },
      "source": [
        "# Cek sebelum cleaning data\n",
        "print(str(X[:5]))\n",
        "print()\n",
        "\n",
        "# Cek setelah cleaning data\n",
        "processed_tweets[:5]"
      ],
      "execution_count": null,
      "outputs": [
        {
          "output_type": "stream",
          "name": "stdout",
          "text": [
            "[\"@VirginAmerica plus you've added commercials to the experience... tacky.\"\n",
            " '@VirginAmerica yes, nearly every time I fly VX this “ear worm” won’t go away :)'\n",
            " \"@virginamerica Well, I didn't…but NOW I DO! :-D\"\n",
            " \"@VirginAmerica it was amazing, and arrived an hour early. You're too good to me.\"\n",
            " '@VirginAmerica I &lt;3 pretty graphics. so much better than minimal iconography. :D']\n",
            "\n"
          ]
        },
        {
          "output_type": "execute_result",
          "data": {
            "text/plain": [
              "[' virginamerica plus you ve added commercials to the experience tacky ',\n",
              " ' virginamerica yes nearly every time fly vx this ear worm won go away ',\n",
              " ' virginamerica well didn but now do d',\n",
              " ' virginamerica it was amazing and arrived an hour early you re too good to me ',\n",
              " ' virginamerica lt 3 pretty graphics so much better than minimal iconography d']"
            ]
          },
          "metadata": {},
          "execution_count": 11
        }
      ]
    },
    {
      "cell_type": "markdown",
      "metadata": {
        "id": "UzIas1ktDJ5d"
      },
      "source": [
        "## Skema TF-IDF untuk Pembuatan Feature Numeric"
      ]
    },
    {
      "cell_type": "code",
      "metadata": {
        "id": "e8YwLIfgApr8"
      },
      "source": [
        "from sklearn.feature_extraction.text import TfidfVectorizer\n",
        "tfidfconverter = TfidfVectorizer(max_features=2000, min_df=5, max_df=0.7, stop_words=stopwords.words('english'),ngram_range=(1,3))\n",
        "X1 = tfidfconverter.fit_transform(processed_tweets).toarray()"
      ],
      "execution_count": null,
      "outputs": []
    },
    {
      "cell_type": "markdown",
      "metadata": {
        "id": "pz3iJizfGOZB"
      },
      "source": [
        "## Membagi Data ke Training dan Test Set"
      ]
    },
    {
      "cell_type": "code",
      "metadata": {
        "id": "u4Izr0lzEGgf"
      },
      "source": [
        "from sklearn.model_selection import train_test_split\n",
        "X_train, X_test, y_train, y_test = train_test_split(X1, y, test_size=0.2, random_state=0)"
      ],
      "execution_count": null,
      "outputs": []
    },
    {
      "cell_type": "markdown",
      "metadata": {
        "id": "272NNoFNGgCp"
      },
      "source": [
        "## Pelatihan dan Evaluasi dari Model Klasifikasi Teks"
      ]
    },
    {
      "cell_type": "code",
      "metadata": {
        "id": "jizQpxeuJF_r"
      },
      "source": [
        "import time\n",
        "\n",
        "from sklearn.naive_bayes import GaussianNB\n",
        "text_classifier_nb = GaussianNB()\n",
        "t0_nb = time.time()\n",
        "text_classifier_nb.fit(X_train, y_train)\n",
        "t1_nb = time.time()"
      ],
      "execution_count": null,
      "outputs": []
    },
    {
      "cell_type": "code",
      "metadata": {
        "colab": {
          "base_uri": "https://localhost:8080/"
        },
        "id": "hRcy8l5PtCfg",
        "outputId": "a3b572a6-aa87-41c8-eeeb-a03ae6e27944"
      },
      "source": [
        "from sklearn.linear_model import LogisticRegression\n",
        "text_classifier_lr = LogisticRegression()\n",
        "t0_lr = time.time()\n",
        "text_classifier_lr.fit(X_train, y_train)\n",
        "t1_lr = time.time()"
      ],
      "execution_count": null,
      "outputs": [
        {
          "output_type": "stream",
          "name": "stderr",
          "text": [
            "/usr/local/lib/python3.10/dist-packages/sklearn/linear_model/_logistic.py:458: ConvergenceWarning: lbfgs failed to converge (status=1):\n",
            "STOP: TOTAL NO. of ITERATIONS REACHED LIMIT.\n",
            "\n",
            "Increase the number of iterations (max_iter) or scale the data as shown in:\n",
            "    https://scikit-learn.org/stable/modules/preprocessing.html\n",
            "Please also refer to the documentation for alternative solver options:\n",
            "    https://scikit-learn.org/stable/modules/linear_model.html#logistic-regression\n",
            "  n_iter_i = _check_optimize_result(\n"
          ]
        }
      ]
    },
    {
      "cell_type": "code",
      "source": [
        "from sklearn.tree import DecisionTreeClassifier\n",
        "text_classifier_dt = DecisionTreeClassifier()\n",
        "t0_dt = time.time()\n",
        "text_classifier_dt.fit(X_train, y_train)\n",
        "t1_dt = time.time()"
      ],
      "metadata": {
        "id": "gcPdhnIDsB4c"
      },
      "execution_count": null,
      "outputs": []
    },
    {
      "cell_type": "code",
      "metadata": {
        "id": "plO0fYm4zsyL"
      },
      "source": [
        "from sklearn.svm import SVC\n",
        "text_classifier_svml = SVC(kernel='linear')\n",
        "t0_svml = time.time()\n",
        "text_classifier_svml.fit(X_train, y_train)\n",
        "t1_svml = time.time()"
      ],
      "execution_count": null,
      "outputs": []
    },
    {
      "cell_type": "code",
      "source": [
        "from sklearn.svm import SVC\n",
        "text_classifier_svmr = SVC(C=10, kernel='rbf', gamma=1)\n",
        "t0_svmr = time.time()\n",
        "text_classifier_svmr.fit(X_train, y_train)\n",
        "t1_svmr = time.time()"
      ],
      "metadata": {
        "id": "Il7W7UEKschO"
      },
      "execution_count": null,
      "outputs": []
    },
    {
      "cell_type": "code",
      "source": [
        "from sklearn.svm import SVC\n",
        "text_classifier_svmp = SVC(C=10, kernel='poly', degree= 1, gamma=1)\n",
        "t0_svmp = time.time()\n",
        "text_classifier_svmp.fit(X_train, y_train)\n",
        "t1_svmp = time.time()"
      ],
      "metadata": {
        "id": "bWGQTZ3QsdlN"
      },
      "execution_count": null,
      "outputs": []
    },
    {
      "cell_type": "code",
      "metadata": {
        "id": "ulqqo7MEGwsp",
        "outputId": "687ba678-454d-430b-f1a5-d15c28ebd4bb",
        "colab": {
          "base_uri": "https://localhost:8080/"
        }
      },
      "source": [
        "predictions_nb = text_classifier_nb.predict(X_test)\n",
        "t2_nb = time.time()\n",
        "time_linear_train_nb = t1_nb-t0_nb\n",
        "time_linear_predict_nb = t2_nb-t1_nb\n",
        "\n",
        "predictions_lr = text_classifier_lr.predict(X_test)\n",
        "t2_lr = time.time()\n",
        "time_linear_train_lr = t1_lr-t0_lr\n",
        "time_linear_predict_lr = t2_lr-t1_lr\n",
        "\n",
        "predictions_dt = text_classifier_dt.predict(X_test)\n",
        "t2_dt = time.time()\n",
        "time_linear_train_dt = t1_dt-t0_dt\n",
        "time_linear_predict_dt = t2_dt-t1_dt\n",
        "\n",
        "predictions_svml = text_classifier_svml.predict(X_test)\n",
        "t2_svml = time.time()\n",
        "time_linear_train_svml = t1_svml-t0_svml\n",
        "time_linear_predict_svml = t2_svml-t1_svml\n",
        "\n",
        "predictions_svmr = text_classifier_svmr.predict(X_test)\n",
        "t2_svmr = time.time()\n",
        "time_linear_train_svmr = t1_svmr-t0_svmr\n",
        "time_linear_predict_svmr = t2_svmr-t1_svmr\n",
        "\n",
        "predictions_svmp = text_classifier_svmp.predict(X_test)\n",
        "t2_svmp = time.time()\n",
        "time_linear_train_svmp = t1_svmp-t0_svmp\n",
        "time_linear_predict_svmp = t2_svmp-t1_svmp\n",
        "\n",
        "# results\n",
        "print(\"NB Training time: %fs; Prediction time: %fs\" % (time_linear_train_nb, time_linear_predict_nb))\n",
        "print(\"LR Training time: %fs; Prediction time: %fs\" % (time_linear_train_lr, time_linear_predict_lr))\n",
        "print(\"DT Training time: %fs; Prediction time: %fs\" % (time_linear_train_dt, time_linear_predict_dt))\n",
        "print(\"SVM kernel:linear Training time: %fs; Prediction time: %fs\" % (time_linear_train_svml, time_linear_predict_svml))\n",
        "print(\"SVM kernel:RBF Training time: %fs; Prediction time: %fs\" % (time_linear_train_svmr, time_linear_predict_svmr))\n",
        "print(\"SVM kernel:polynomial Training time: %fs; Prediction time: %fs\" % (time_linear_train_svmp, time_linear_predict_svmp))"
      ],
      "execution_count": null,
      "outputs": [
        {
          "output_type": "stream",
          "name": "stdout",
          "text": [
            "NB Training time: 0.301397s; Prediction time: 511.991144s\n",
            "LR Training time: 16.095783s; Prediction time: 495.901684s\n",
            "DT Training time: 23.375951s; Prediction time: 472.451578s\n",
            "SVM kernel:linear Training time: 105.902824s; Prediction time: 388.714098s\n",
            "SVM kernel:RBF Training time: 265.049186s; Prediction time: 181.923045s\n",
            "SVM kernel:polynomial Training time: 101.348245s; Prediction time: 99.239515s\n"
          ]
        }
      ]
    },
    {
      "cell_type": "markdown",
      "metadata": {
        "id": "YYpFcLPgHlBI"
      },
      "source": [
        "## Results"
      ]
    },
    {
      "cell_type": "code",
      "metadata": {
        "id": "M6U6-y21-qpF",
        "outputId": "cda100f1-e58d-4c09-ea12-bfaf9d27d66d",
        "colab": {
          "base_uri": "https://localhost:8080/"
        }
      },
      "source": [
        "from sklearn.metrics import classification_report, confusion_matrix\n",
        "\n",
        "print(\"Naive Bayes\")\n",
        "print(confusion_matrix(y_test,predictions_nb))\n",
        "print(\"\")\n",
        "print(\"Logistic Regression\")\n",
        "print(confusion_matrix(y_test,predictions_lr))\n",
        "print(\"\")\n",
        "print(\"Decision Tree\")\n",
        "print(confusion_matrix(y_test,predictions_dt))\n",
        "print(\"\")\n",
        "print(\"Support Vector Machine kernel: linear\")\n",
        "print(confusion_matrix(y_test,predictions_svml))\n",
        "print(\"\")\n",
        "print(\"Support Vector Machine, kernel: rbf\")\n",
        "print(confusion_matrix(y_test,predictions_svml))\n",
        "print(\"\")\n",
        "print(\"Support Vector Machine, kernel: polynomial\")\n",
        "print(confusion_matrix(y_test,predictions_svml))\n",
        "print(\"\")\n",
        "\n",
        "print(\"Naive Bayes\")\n",
        "print(classification_report(y_test,predictions_nb))\n",
        "print(\"\")\n",
        "print(\"Logistic Regression\")\n",
        "print(classification_report(y_test,predictions_lr))\n",
        "print(\"\")\n",
        "print(\"Decision Tree\")\n",
        "print(classification_report(y_test,predictions_dt))\n",
        "print(\"\")\n",
        "print(\"Support Vector Machine kernel: linear\")\n",
        "print(classification_report(y_test,predictions_svml))\n",
        "print(\"\")\n",
        "print(\"Support Vector Machine kernel: rbf\")\n",
        "print(classification_report(y_test,predictions_svmr))\n",
        "print(\"\")\n",
        "print(\"Support Vector Machine kernel: polynomial\")\n",
        "print(classification_report(y_test,predictions_svmp))"
      ],
      "execution_count": null,
      "outputs": [
        {
          "output_type": "stream",
          "name": "stdout",
          "text": [
            "Naive Bayes\n",
            "[[702 496 645]\n",
            " [ 38 226 360]\n",
            " [ 32  57 372]]\n",
            "\n",
            "Logistic Regression\n",
            "[[1708  102   33]\n",
            " [ 281  308   35]\n",
            " [ 120   56  285]]\n",
            "\n",
            "Decision Tree\n",
            "[[1485  252  106]\n",
            " [ 291  264   69]\n",
            " [ 145   74  242]]\n",
            "\n",
            "Support Vector Machine kernel: linear\n",
            "[[1688  114   41]\n",
            " [ 261  321   42]\n",
            " [ 109   59  293]]\n",
            "\n",
            "Support Vector Machine, kernel: rbf\n",
            "[[1688  114   41]\n",
            " [ 261  321   42]\n",
            " [ 109   59  293]]\n",
            "\n",
            "Support Vector Machine, kernel: polynomial\n",
            "[[1688  114   41]\n",
            " [ 261  321   42]\n",
            " [ 109   59  293]]\n",
            "\n",
            "Naive Bayes\n",
            "              precision    recall  f1-score   support\n",
            "\n",
            "           0       0.91      0.38      0.54      1843\n",
            "           1       0.29      0.36      0.32       624\n",
            "           2       0.27      0.81      0.40       461\n",
            "\n",
            "    accuracy                           0.44      2928\n",
            "   macro avg       0.49      0.52      0.42      2928\n",
            "weighted avg       0.68      0.44      0.47      2928\n",
            "\n",
            "\n",
            "Logistic Regression\n",
            "              precision    recall  f1-score   support\n",
            "\n",
            "           0       0.81      0.93      0.86      1843\n",
            "           1       0.66      0.49      0.57       624\n",
            "           2       0.81      0.62      0.70       461\n",
            "\n",
            "    accuracy                           0.79      2928\n",
            "   macro avg       0.76      0.68      0.71      2928\n",
            "weighted avg       0.78      0.79      0.77      2928\n",
            "\n",
            "\n",
            "Decision Tree\n",
            "              precision    recall  f1-score   support\n",
            "\n",
            "           0       0.77      0.81      0.79      1843\n",
            "           1       0.45      0.42      0.43       624\n",
            "           2       0.58      0.52      0.55       461\n",
            "\n",
            "    accuracy                           0.68      2928\n",
            "   macro avg       0.60      0.58      0.59      2928\n",
            "weighted avg       0.67      0.68      0.68      2928\n",
            "\n",
            "\n",
            "Support Vector Machine kernel: linear\n",
            "              precision    recall  f1-score   support\n",
            "\n",
            "           0       0.82      0.92      0.87      1843\n",
            "           1       0.65      0.51      0.57       624\n",
            "           2       0.78      0.64      0.70       461\n",
            "\n",
            "    accuracy                           0.79      2928\n",
            "   macro avg       0.75      0.69      0.71      2928\n",
            "weighted avg       0.78      0.79      0.78      2928\n",
            "\n",
            "\n",
            "Support Vector Machine kernel: rbf\n",
            "              precision    recall  f1-score   support\n",
            "\n",
            "           0       0.83      0.91      0.87      1843\n",
            "           1       0.66      0.52      0.58       624\n",
            "           2       0.75      0.64      0.69       461\n",
            "\n",
            "    accuracy                           0.79      2928\n",
            "   macro avg       0.74      0.69      0.71      2928\n",
            "weighted avg       0.78      0.79      0.78      2928\n",
            "\n",
            "\n",
            "Support Vector Machine kernel: polynomial\n",
            "              precision    recall  f1-score   support\n",
            "\n",
            "           0       0.82      0.87      0.85      1843\n",
            "           1       0.58      0.53      0.55       624\n",
            "           2       0.70      0.64      0.67       461\n",
            "\n",
            "    accuracy                           0.76      2928\n",
            "   macro avg       0.70      0.68      0.69      2928\n",
            "weighted avg       0.75      0.76      0.76      2928\n",
            "\n"
          ]
        }
      ]
    },
    {
      "cell_type": "markdown",
      "metadata": {
        "id": "CNNqcKS12rTq"
      },
      "source": [
        "## Testing Review"
      ]
    },
    {
      "cell_type": "code",
      "metadata": {
        "id": "QC5bjvv6K2T8",
        "colab": {
          "base_uri": "https://localhost:8080/"
        },
        "outputId": "4d7d251d-643e-43fd-bdf5-f623da2e194f"
      },
      "source": [
        "# Input text\n",
        "review = \"@AmericanAir right on cue with the delays👌\"\n",
        "\n",
        "review_vector = tfidfconverter.transform([review]).toarray() # vectorizing\n",
        "pred_text = text_classifier_nb.predict(review_vector)\n",
        "pred_text = le.inverse_transform(pred_text)\n",
        "print(pred_text)"
      ],
      "execution_count": null,
      "outputs": [
        {
          "output_type": "stream",
          "name": "stdout",
          "text": [
            "['positive']\n"
          ]
        }
      ]
    },
    {
      "cell_type": "markdown",
      "source": [
        "# Analisis Misclassified"
      ],
      "metadata": {
        "id": "6VHF-zo6ujY5"
      }
    },
    {
      "cell_type": "markdown",
      "source": [
        "Data uji"
      ],
      "metadata": {
        "id": "ZhM1wdcyvYQK"
      }
    },
    {
      "cell_type": "code",
      "source": [
        "y_test"
      ],
      "metadata": {
        "colab": {
          "base_uri": "https://localhost:8080/"
        },
        "id": "aYANlRoDurwg",
        "outputId": "7833c2b6-2bb5-48de-b4d8-4c6aac2f3797"
      },
      "execution_count": null,
      "outputs": [
        {
          "output_type": "execute_result",
          "data": {
            "text/plain": [
              "array([1, 1, 0, ..., 0, 0, 2])"
            ]
          },
          "metadata": {},
          "execution_count": 23
        }
      ]
    },
    {
      "cell_type": "markdown",
      "source": [
        "Hasil prediksi menggunakan SVM kernel: linear"
      ],
      "metadata": {
        "id": "7fS3rKG4vcRe"
      }
    },
    {
      "cell_type": "code",
      "source": [
        "predictions_svml"
      ],
      "metadata": {
        "colab": {
          "base_uri": "https://localhost:8080/"
        },
        "id": "eyBDSTwOvEE_",
        "outputId": "7dffe1ff-d1b5-4f25-cfe8-edc2419badc7"
      },
      "execution_count": null,
      "outputs": [
        {
          "output_type": "execute_result",
          "data": {
            "text/plain": [
              "array([1, 0, 0, ..., 0, 0, 2])"
            ]
          },
          "metadata": {},
          "execution_count": 24
        }
      ]
    },
    {
      "cell_type": "markdown",
      "source": [
        "Hasil prediksi menggunakan SVM kernel: rbf"
      ],
      "metadata": {
        "id": "3Gh8kYD0wT_X"
      }
    },
    {
      "cell_type": "code",
      "source": [
        "predictions_svmr"
      ],
      "metadata": {
        "colab": {
          "base_uri": "https://localhost:8080/"
        },
        "outputId": "42de9de4-6958-48ce-9464-7d6a49aad28d",
        "id": "RVDFtc9UwZGl"
      },
      "execution_count": null,
      "outputs": [
        {
          "output_type": "execute_result",
          "data": {
            "text/plain": [
              "array([1, 1, 0, ..., 0, 0, 2])"
            ]
          },
          "metadata": {},
          "execution_count": 27
        }
      ]
    },
    {
      "cell_type": "markdown",
      "source": [
        "Hasil prediksi menggunakan SVM kernel: polynomial"
      ],
      "metadata": {
        "id": "URfP7LSJvi9O"
      }
    },
    {
      "cell_type": "code",
      "source": [
        "predictions_svmp"
      ],
      "metadata": {
        "colab": {
          "base_uri": "https://localhost:8080/"
        },
        "id": "k0jVoB8RvMDo",
        "outputId": "aa4a4245-d009-4623-9ed8-708e94b6c6d0"
      },
      "execution_count": null,
      "outputs": [
        {
          "output_type": "execute_result",
          "data": {
            "text/plain": [
              "array([1, 0, 0, ..., 0, 0, 2])"
            ]
          },
          "metadata": {},
          "execution_count": 25
        }
      ]
    },
    {
      "cell_type": "markdown",
      "source": [
        "Hasil prediksi menggunakan Naive Bayes"
      ],
      "metadata": {
        "id": "fAsj22XGvnwV"
      }
    },
    {
      "cell_type": "code",
      "source": [
        "predictions_nb"
      ],
      "metadata": {
        "colab": {
          "base_uri": "https://localhost:8080/"
        },
        "id": "ecQaVGDcvSpR",
        "outputId": "f38d890a-f07f-4d16-e2a2-a367297f8cad"
      },
      "execution_count": null,
      "outputs": [
        {
          "output_type": "execute_result",
          "data": {
            "text/plain": [
              "array([2, 2, 2, ..., 1, 0, 2])"
            ]
          },
          "metadata": {},
          "execution_count": 26
        }
      ]
    },
    {
      "cell_type": "markdown",
      "metadata": {
        "id": "DraYPLXOHrMM"
      },
      "source": [
        "## Kesimpulan"
      ]
    },
    {
      "cell_type": "markdown",
      "metadata": {
        "id": "qiZrDPnbHv_w"
      },
      "source": [
        "Sentiment Analysis adalah salah satu tugas utama dalam proses natural language. Untuk menerapkan teknik statistik untuk Sentiment Analysis perlu mengubah teks menjadi angka. Pada pembahasan ini, melihat bagaimana pendekatan TF-IDF dapat digunakan untuk membuat vektor fitur numerik dari teks. Model Sentiment Analysis tertinggi diatas mencapai akurasi sekitar 79 % dan rata-rata waktu eksekusi tercepat untuk prediksi sentimen dengan menggunakan SVM."
      ]
    }
  ]
}